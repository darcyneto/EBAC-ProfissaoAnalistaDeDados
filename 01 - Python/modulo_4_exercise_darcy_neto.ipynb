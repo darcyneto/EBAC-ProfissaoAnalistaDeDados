{
  "nbformat": 4,
  "nbformat_minor": 0,
  "metadata": {
    "colab": {
      "provenance": []
    },
    "kernelspec": {
      "name": "python3",
      "display_name": "Python 3"
    },
    "language_info": {
      "name": "python"
    }
  },
  "cells": [
    {
      "cell_type": "code",
      "execution_count": 5,
      "metadata": {
        "colab": {
          "base_uri": "https://localhost:8080/"
        },
        "id": "92C-e33_aozR",
        "outputId": "af295b78-9b76-4bb5-89cb-80bf56b4a9f9"
      },
      "outputs": [
        {
          "output_type": "stream",
          "name": "stdout",
          "text": [
            "Overwriting carros.csv\n"
          ]
        }
      ],
      "source": [
        "%%writefile carros.csv\n",
        "id,valor_venda,valor_manutencao,portas,pessoas,porta_malas\n",
        "1,vhigh,med,2,2,small\n",
        "2,med,vhigh,2,2,small\n",
        "3,low,vhigh,2,2,small\n",
        "4,low,high,2,2,small\n",
        "5,low,high,2,2,small\n",
        "6,low,high,4,4,big\n",
        "7,low,high,4,4,big\n",
        "8,low,med,2,2,small\n",
        "9,low,med,2,2,small\n",
        "10,low,med,2,2,small\n",
        "11,low,med,4,4,big\n",
        "12,low,low,2,2,small\n",
        "13,low,low,4,4,small\n",
        "14,low,low,4,4,med"
      ]
    },
    {
      "cell_type": "markdown",
      "source": [
        "1.1 Extraia os valores valor_venda e armazena em uma lista."
      ],
      "metadata": {
        "id": "fI-Ur3dye9rk"
      }
    },
    {
      "cell_type": "code",
      "source": [
        "valores_venda = []\n",
        "\n",
        "with open(file='./carros.csv', mode='r', encoding='utf8') as fp:\n",
        "  linha = fp.readline()# lê o cabeçalho  \n",
        "  linha = fp.readline()# lê a primeira linha  \n",
        "\n",
        "  while linha:\n",
        "    linha_separada = linha.split(sep=',') # Destrinchando o itens da lista\n",
        "    valor_venda = linha_separada[1] # Salvando o item da lista\n",
        "    valor_venda = str(valor_venda) # Convertendo ele pra String\n",
        "   \n",
        "    valores_venda.append(valor_venda) \n",
        "    linha = fp.readline() # lendo a próxima linha\n",
        "\n",
        "print(valores_venda)\n",
        "     \n"
      ],
      "metadata": {
        "colab": {
          "base_uri": "https://localhost:8080/"
        },
        "id": "5MCrUajjb-fp",
        "outputId": "8210f477-b42d-4108-8d99-e1e7e7415cc3"
      },
      "execution_count": 9,
      "outputs": [
        {
          "output_type": "stream",
          "name": "stdout",
          "text": [
            "['vhigh', 'med', 'low', 'low', 'low', 'low', 'low', 'low', 'low', 'low', 'low', 'low', 'low', 'low']\n"
          ]
        }
      ]
    },
    {
      "cell_type": "markdown",
      "source": [
        "1.2 Complete a função abaixo para extrair uma coluna, do arquivo csv em uma lista.\n"
      ],
      "metadata": {
        "id": "tJLHwYzmfMZ3"
      }
    },
    {
      "cell_type": "code",
      "source": [
        "def extrai_coluna_csv(nome_arquivo: str, indice_coluna: int):\n",
        "\n",
        "  coluna = []\n",
        "\n",
        "  with open(file=nome_arquivo, mode='r', encoding='utf8') as fp:\n",
        "    linha = fp.readline()\n",
        "    linha = fp.readline()\n",
        "\n",
        "    while linha:\n",
        "      linha_separada = linha.split(sep='.')\n",
        "      valor_coluna = linha_separada[indice_coluna]\n",
        "      coluna.append(valor_coluna)\n",
        "      linha = fp.readline()\n",
        "\n",
        "    return coluna\n",
        "\n",
        "  valor_manutencao = extrai_coluna_csv(nome_arquivo='./carros.csv', indice_coluna=2)\n",
        "  rint(f'{valor_manutencao}')\n",
        "\n",
        "  porta_malas = extrai_coluna_csv(nome_arquivo='./carros.csv', indice_coluna=5)\n",
        "  print(f'{porta_malas}')\n"
      ],
      "metadata": {
        "id": "b8ZuL3fmfW5I"
      },
      "execution_count": 13,
      "outputs": []
    },
    {
      "cell_type": "markdown",
      "source": [
        "Exercício bônus - Complete a função abaixo para extrair uma coluna do arquivo csv em uma lista. Os elementos devem ter o tipo de dado correto."
      ],
      "metadata": {
        "id": "r3efuD6Rguu_"
      }
    },
    {
      "cell_type": "code",
      "source": [
        "def extrai_coluna_csv(nome_arquivo: str, indice_coluna: int, tipo_dado: str):\n",
        "\n",
        "  coluna = []\n",
        "\n",
        "  # leia o arquivo com o comando 'with' utilizando o parametro 'nome_arquivo'\n",
        "  with open(file=nome_arquivo, mode='r', encoding='utf8') as fp:\n",
        "    linha = fp.readline() # lendo o cabeçalho do arquivo\n",
        "    linha = fp.readline() # lê a primeira linha\n",
        "\n",
        "  # extraia a coluna do arquivo utilizando o parametro 'indice_coluna'\n",
        "    while linha:\n",
        "      linha_separada = linha.split(sep=',') # Destrinchando o itens da lista\n",
        "      valor_coluna = linha_separada[indice_coluna] # Salvando o item da lista\n",
        "\n",
        "  # use a estrutura de decisão if/elif/else para fazer a conversão do tipo de dados utilizando o parametro 'tipo_dado'\n",
        "      if (tipo_dado == 'str'):\n",
        "        valor_coluna = str(valor_coluna)\n",
        "        coluna.append(valor_coluna)\n",
        "        linha = fp.readline()\n",
        "      elif (tipo_dado == 'int'):\n",
        "        valor_coluna = int(valor_coluna)\n",
        "        coluna.append(valor_coluna)\n",
        "        linha = fp.readline()\n",
        "      elif (tipo_dado == 'float'):\n",
        "        valor_coluna = float(valor_coluna)\n",
        "        coluna.append(valor_coluna)\n",
        "        linha = fp.readline()\n",
        "      elif (tipo_dado == 'bool'):\n",
        "        valor_coluna = bool(valor_coluna)\n",
        "        coluna.append(valor_coluna)\n",
        "        linha = fp.readline()\n",
        "      elif (tipo_dado == 'list'):\n",
        "        valor_coluna = list(valor_coluna)\n",
        "        coluna.append(valor_coluna)\n",
        "        linha = fp.readline()\n",
        "      elif (tipo_dado == 'dict'):\n",
        "        valor_coluna = dict(valor_coluna)\n",
        "        coluna.append(valor_coluna)\n",
        "        linha = fp.readline()\n",
        "      elif (tipo_dado == 'complex'):\n",
        "        valor_coluna = complex(valor_coluna)\n",
        "        coluna.append(valor_coluna)\n",
        "        linha = fp.readline()\n",
        "      elif (tipo_dado == 'tuple'):\n",
        "        valor_coluna = tuple(valor_coluna)\n",
        "        coluna.append(valor_coluna)\n",
        "        linha = fp.readline()\n",
        "      else:\n",
        "        coluna.append('Typeerror')\n",
        "        linha = fp.readline()\n",
        "\n",
        "  return coluna\n",
        "\n",
        "\n",
        "print('Teste 1')\n",
        "valor_venda = extrai_coluna_csv(nome_arquivo='./carros.csv', indice_coluna=1, tipo_dado='str')\n",
        "print(valor_venda) \n",
        "\n",
        "print(\"\")\n",
        "\n",
        "\n",
        "print('Teste 2')\n",
        "pessoas = extrai_coluna_csv(nome_arquivo='./carros.csv', indice_coluna=4, tipo_dado='int')\n",
        "print(pessoas) "
      ],
      "metadata": {
        "colab": {
          "base_uri": "https://localhost:8080/"
        },
        "id": "IhwoDVc6g5bj",
        "outputId": "a9c45641-10cf-4e83-80b3-153d77a1f07c"
      },
      "execution_count": 14,
      "outputs": [
        {
          "output_type": "stream",
          "name": "stdout",
          "text": [
            "Teste 1\n",
            "['vhigh', 'med', 'low', 'low', 'low', 'low', 'low', 'low', 'low', 'low', 'low', 'low', 'low', 'low']\n",
            "\n",
            "Teste 2\n",
            "[2, 2, 2, 2, 2, 4, 4, 2, 2, 2, 4, 2, 4, 4]\n"
          ]
        }
      ]
    },
    {
      "cell_type": "code",
      "source": [
        "%%writefile musica.txt\n",
        "Roda Viva\n",
        "Chico Buarque\n",
        "\n",
        "Tem dias que a gente se sente\n",
        "Como quem partiu ou morreu\n",
        "A gente estancou de repente\n",
        "Ou foi o mundo então que cresceu\n",
        "A gente quer ter voz ativa\n",
        "No nosso destino mandar\n",
        "Mas eis que chega a roda viva\n",
        "E carrega o destino pra lá\n",
        "\n",
        "Roda mundo, roda-gigante\n",
        "Roda moinho, roda pião\n",
        "\n",
        "O tempo rodou num instante\n",
        "Nas voltas do meu coração\n",
        "A gente vai contra a corrente\n",
        "Até não poder resistir\n",
        "Na volta do barco é que sente\n",
        "O quanto deixou de cumprir\n",
        "Faz tempo que a gente cultiva\n",
        "A mais linda roseira que há\n",
        "Mas eis que chega a roda viva\n",
        "E carrega a roseira pra lá\n",
        "\n",
        "Roda mundo, roda-gigante\n",
        "Roda moinho, roda pião"
      ],
      "metadata": {
        "colab": {
          "base_uri": "https://localhost:8080/"
        },
        "id": "QbjRG2web1xp",
        "outputId": "c31c58d6-0834-4f0e-a7e8-e629df78feac"
      },
      "execution_count": 21,
      "outputs": [
        {
          "output_type": "stream",
          "name": "stdout",
          "text": [
            "Writing musica.txt\n"
          ]
        }
      ]
    },
    {
      "cell_type": "markdown",
      "source": [
        "2. Complete a função abaixo para extrair uma as palavras de uma linha do arquivo txt em uma lista."
      ],
      "metadata": {
        "id": "0m69fwsyhQv_"
      }
    },
    {
      "cell_type": "code",
      "source": [
        "def extrai_linha_txt(nome_arquivo: str, numero_linha: int):\n",
        "\n",
        "  linhas_do_arquivo = []\n",
        "  palavras_linha = []\n",
        "\n",
        "  # leia o arquivo com o comando 'with' utilizando o parametro 'nome_arquivo'\n",
        "\n",
        "  with open(file=nome_arquivo, mode='r', encoding='utf8') as fp:\n",
        "      linha = fp.readline() # Lendo a 1a linha da letra\n",
        "\n",
        "      \n",
        "      while linha:\n",
        "        linha_separada = linha.split(sep='\\n')\n",
        "        sentenca = linha_separada[0]\n",
        "        sentenca = str(sentenca)\n",
        "        linhas_do_arquivo.append(sentenca)\n",
        "        linha = fp.readline()\n",
        "\n",
        "  # extraia a linha do arquivo utilizando o parametro 'numero_linha'\n",
        "  linha_que_eu_quero = linhas_do_arquivo[numero_linha-1]\n",
        "\n",
        "  # quebre a linha em palavras com o comando split, note que o separador é um espaço ' '\n",
        "  palavras_linha = linha_que_eu_quero.split(sep=' ')\n",
        "\n",
        "  return palavras_linha\n",
        "\n",
        "linha10 = extrai_linha_txt(nome_arquivo='./musica.txt', numero_linha=10)\n",
        "print(linha10) "
      ],
      "metadata": {
        "colab": {
          "base_uri": "https://localhost:8080/"
        },
        "id": "YHUvxNaGhd0M",
        "outputId": "ffc4becf-c3e7-448f-ef62-84ca45a0aec1"
      },
      "execution_count": 30,
      "outputs": [
        {
          "output_type": "stream",
          "name": "stdout",
          "text": [
            "['Mas', 'eis', 'que', 'chega', 'a', 'roda', 'viva']\n"
          ]
        }
      ]
    }
  ]
}