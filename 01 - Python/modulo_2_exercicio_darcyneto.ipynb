{
  "nbformat": 4,
  "nbformat_minor": 0,
  "metadata": {
    "colab": {
      "name": "Exercício 2 - Estruturas de Dados(2).ipynb",
      "provenance": []
    },
    "kernelspec": {
      "name": "python3",
      "display_name": "Python 3"
    },
    "language_info": {
      "name": "python"
    }
  },
  "cells": [
    {
      "cell_type": "code",
      "execution_count": 2,
      "metadata": {
        "colab": {
          "base_uri": "https://localhost:8080/"
        },
        "id": "rYysndw_EvX4",
        "outputId": "90914622-da08-40e5-9ea3-6e4ee93527f1"
      },
      "outputs": [
        {
          "output_type": "stream",
          "name": "stdout",
          "text": [
            "['um sonho de liberdade', 'o poderoso chefão', 'batman: o cavaleiro das trevas', 'o poderoso chefão 2', '12 homens e uma sentença', 'a lista de schindler', 'o senhor dos aneis - o retorno do rei', 'pulp fiction - tempos de violência', 'o senhor dos anéis - a sociedade do anel', 'três homens em conflito']\n"
          ]
        }
      ],
      "source": [
        "filmes = ['um sonho de liberdade' , 'o poderoso chefão' , 'batman: o cavaleiro das trevas' , 'o poderoso chefão 2' , '12 homens e uma sentença' , 'a lista de schindler' , 'o senhor dos aneis - o retorno do rei' , 'pulp fiction - tempos de violência' , 'o senhor dos anéis - a sociedade do anel' , 'três homens em conflito']\n",
        "\n",
        "print(filmes)"
      ]
    },
    {
      "cell_type": "code",
      "source": [
        "segundo_filme = filmes.pop(1)\n",
        "filmes.insert(0, segundo_filme)\n",
        "\n",
        "print(filmes)"
      ],
      "metadata": {
        "id": "M_xeQtNPH0BO",
        "colab": {
          "base_uri": "https://localhost:8080/"
        },
        "outputId": "f0f25384-3aa7-4547-95b7-db8895c319a0"
      },
      "execution_count": 3,
      "outputs": [
        {
          "output_type": "stream",
          "name": "stdout",
          "text": [
            "['o poderoso chefão', 'um sonho de liberdade', 'batman: o cavaleiro das trevas', 'o poderoso chefão 2', '12 homens e uma sentença', 'a lista de schindler', 'o senhor dos aneis - o retorno do rei', 'pulp fiction - tempos de violência', 'o senhor dos anéis - a sociedade do anel', 'três homens em conflito']\n"
          ]
        }
      ]
    },
    {
      "cell_type": "code",
      "source": [
        "filmes = ['um sonho de liberdade' , 'o poderoso chefão' , 'batman: o cavaleiro das trevas' , 'o poderoso chefão 2' , '12 homens e uma sentença' , 'a lista de schindler' , 'o senhor dos aneis - o retorno do rei' , 'pulp fiction - tempos de violência' , 'o senhor dos anéis - a sociedade do anel' , 'três homens em conflito' ]\n",
        "\n",
        "filmes.insert(10, 'pulp fiction - tempos de violência') \n",
        "filmes.insert(11, 'o senhor dos anéis - a sociedade do anel')\n",
        "filmes.insert(12,  'três homens em conflito')\n",
        "\n",
        "print(filmes)"
      ],
      "metadata": {
        "colab": {
          "base_uri": "https://localhost:8080/"
        },
        "id": "xM4ZHIfIdqBj",
        "outputId": "39c3bb36-688d-48c9-aca9-fc034477311f"
      },
      "execution_count": 15,
      "outputs": [
        {
          "output_type": "stream",
          "name": "stdout",
          "text": [
            "['um sonho de liberdade', 'o poderoso chefão', 'batman: o cavaleiro das trevas', 'o poderoso chefão 2', '12 homens e uma sentença', 'a lista de schindler', 'o senhor dos aneis - o retorno do rei', 'pulp fiction - tempos de violência', 'o senhor dos anéis - a sociedade do anel', 'três homens em conflito', 'pulp fiction - tempos de violência', 'o senhor dos anéis - a sociedade do anel', 'três homens em conflito']\n"
          ]
        }
      ]
    },
    {
      "cell_type": "code",
      "source": [
        "filmes = ['um sonho de liberdade', 'o poderoso chefão', 'batman: o cavaleiro das trevas', 'o poderoso chefão 2', '12 homens e uma sentença', 'a lista de schindler', 'o senhor dos aneis - o retorno do rei', 'pulp fiction - tempos de violência', 'o senhor dos anéis - a sociedade do anel', 'três homens em conflito', 'pulp fiction - tempos de violência', 'o senhor dos anéis - a sociedade do anel', 'três homens em conflito']\n",
        "\n",
        "filmes.remove('pulp fiction - tempos de violência')\n",
        "filmes.remove('o senhor dos anéis - a sociedade do anel')\n",
        "filmes.remove('três homens em conflito')\n",
        "\n",
        "print(filmes)"
      ],
      "metadata": {
        "colab": {
          "base_uri": "https://localhost:8080/"
        },
        "id": "Dpr7bcJ9epyl",
        "outputId": "9495cdc8-b974-4072-bfc2-42c36d181260"
      },
      "execution_count": 18,
      "outputs": [
        {
          "output_type": "stream",
          "name": "stdout",
          "text": [
            "['um sonho de liberdade', 'o poderoso chefão', 'batman: o cavaleiro das trevas', 'o poderoso chefão 2', '12 homens e uma sentença', 'a lista de schindler', 'o senhor dos aneis - o retorno do rei', 'pulp fiction - tempos de violência', 'o senhor dos anéis - a sociedade do anel', 'três homens em conflito']\n"
          ]
        }
      ]
    },
    {
      "cell_type": "code",
      "source": [
        "dic_filmes = {'nome' : 'um sonho de liberdade','ano' : 1994},{'sinopse' : 'Dois homens presos se reúnem ao longo de vários anos encontrando consolo e eventual redenção através de atos de decência comum'} , {'nome' : 'o poderoso chefão' , 'ano' : 1972} , {'sinopse' : 'O patriarca idoso de uma dinastia do crime organizado transfere o controle de seu império clandestino para seu filho relutante' } , {'nome' : 'batman - o cavaleiro das trevas' , 'ano' : 2008} , {'sinopse' : 'Quando a ameaça conhecida como O Coringa surge de seu passado, causa estragos e caos nas pessoas de Gotham. O Cavaleiro das Trevas deve aceitar um dos maiores testes para combater a injustiça'} , {'nome' : 'o poderoso chefão 2' , 'ano' : 1974} , {'sinopse' : 'Em 1950, Michael Corleone, agora à frente da família, tenta expandir o negócio do crime a Las Vegas, Los Angeles e Cuba. Paralelamente, é revelada a história de Vito Corleone, e de como saiu da Sicília e chegou a Nova Iorque'} , {'nome' : '12 homens e uma sentença' , 'ano' : 1957} , {'sinopse' : 'Um jurado que se aposenta tenta evitar um erro judicial forçando seus colegas a reconsiderarem as evidências'} , {'nome' : 'a lista de schindler' , 'ano' : 1993} , {'sinopse' : 'Depois de testemunhar a perseguição dos judaicos na Polônia ocupada pelos alemães durante a Segunda Guerra Mundial, o industrial Oskar Schindler se começa a preocupar com sua força de trabalho judaica'} , {'nome' : 'o senhor dos anéis - o retorno do rei' , 'ano' : 2003} , {'sinopse' : 'Gandalf e Aragorn lideram o Mundo dos Homens contra o exército de Sauron para desviar o olhar de Frodo e Sam quando eles se aproximam á Montanha da Perdição com o Um Anel'} , {'nome' : 'pulp fiction - tempos de violência' , 'ano' : 1994} , {'sinopse' : 'As vidas de dois assassinos da máfia, um boxeador, um gângster e sua esposa, e um par de bandidos se entrelaçam em quatro histórias de violência e redenção'} , {'nome' : 'o senhor dos anéis - a sociedade do anel' , 'ano' : 2001} , {'sinopse' : 'Um manso hobbit do Condado e oito companheiros partem em uma jornada para destruir o poderoso Um Anel e salvar a Terra-média das Trevas'} , {'nome' : 'três homens em conflito' , 'ano' : 1966} , {'sinopse' : 'Um impostor se junta com dois homens para encontrar fortuna num remoto cemitério'}\n",
        "\n",
        "\n",
        "print(dic_filmes)"
      ],
      "metadata": {
        "colab": {
          "base_uri": "https://localhost:8080/"
        },
        "id": "N5wUTsrKVOAs",
        "outputId": "9fd6c0be-90dd-4de3-e396-f06e7bbad110"
      },
      "execution_count": null,
      "outputs": [
        {
          "output_type": "stream",
          "name": "stdout",
          "text": [
            "({'nome': 'um sonho de liberdade', 'ano': 1994}, {'sinopse': 'Dois homens presos se reúnem ao longo de vários anos encontrando consolo e eventual redenção através de atos de decência comum'}, {'nome': 'o poderoso chefão', 'ano': 1972}, {'sinopse': 'O patriarca idoso de uma dinastia do crime organizado transfere o controle de seu império clandestino para seu filho relutante'}, {'nome': 'batman - o cavaleiro das trevas', 'ano': 2008}, {'sinopse': 'Quando a ameaça conhecida como O Coringa surge de seu passado, causa estragos e caos nas pessoas de Gotham. O Cavaleiro das Trevas deve aceitar um dos maiores testes para combater a injustiça'}, {'nome': 'o poderoso chefão 2', 'ano': 1974}, {'sinopse': 'Em 1950, Michael Corleone, agora à frente da família, tenta expandir o negócio do crime a Las Vegas, Los Angeles e Cuba. Paralelamente, é revelada a história de Vito Corleone, e de como saiu da Sicília e chegou a Nova Iorque'}, {'nome': '12 homens e uma sentença', 'ano': 1957}, {'sinopse': 'Um jurado que se aposenta tenta evitar um erro judicial forçando seus colegas a reconsiderarem as evidências'}, {'nome': 'a lista de schindler', 'ano': 1993}, {'sinopse': 'Depois de testemunhar a perseguição dos judaicos na Polônia ocupada pelos alemães durante a Segunda Guerra Mundial, o industrial Oskar Schindler se começa a preocupar com sua força de trabalho judaica'}, {'nome': 'o senhor dos anéis - o retorno do rei', 'ano': 2003}, {'sinopse': 'Gandalf e Aragorn lideram o Mundo dos Homens contra o exército de Sauron para desviar o olhar de Frodo e Sam quando eles se aproximam á Montanha da Perdição com o Um Anel'}, {'nome': 'pulp fiction - tempos de violência', 'ano': 1994}, {'sinopse': 'As vidas de dois assassinos da máfia, um boxeador, um gângster e sua esposa, e um par de bandidos se entrelaçam em quatro histórias de violência e redenção'}, {'nome': 'o senhor dos anéis - a sociedade do anel', 'ano': 2001}, {'sinopse': 'Um manso hobbit do Condado e oito companheiros partem em uma jornada para destruir o poderoso Um Anel e salvar a Terra-média das Trevas'}, {'nome': 'três homens em conflito', 'ano': 1966}, {'sinopse': 'Um impostor se junta com dois homens para encontrar fortuna num remoto cemitério'})\n"
          ]
        }
      ]
    },
    {
      "cell_type": "code",
      "source": [
        ""
      ],
      "metadata": {
        "id": "AmE-AI-O1pye"
      },
      "execution_count": null,
      "outputs": []
    }
  ]
}