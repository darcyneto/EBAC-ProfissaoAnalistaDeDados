{
  "nbformat": 4,
  "nbformat_minor": 0,
  "metadata": {
    "colab": {
      "name": "Exercício_Módulo_1_Darcy_Neto.ipynb",
      "provenance": [],
      "collapsed_sections": []
    },
    "kernelspec": {
      "name": "python3",
      "display_name": "Python 3"
    },
    "language_info": {
      "name": "python"
    }
  },
  "cells": [
    {
      "cell_type": "code",
      "execution_count": null,
      "metadata": {
        "colab": {
          "base_uri": "https://localhost:8080/"
        },
        "id": "CzRvafcf9HWK",
        "outputId": "2daa0896-ab5f-4839-ef8f-b538b8710f1e"
      },
      "outputs": [
        {
          "output_type": "stream",
          "name": "stdout",
          "text": [
            "olá mundo!\n"
          ]
        }
      ],
      "source": [
        "x = \"olá mundo!\"\n",
        "\n",
        "print(x)"
      ]
    },
    {
      "cell_type": "code",
      "source": [
        "qtv_19 = 3\n",
        "tkm_19 = 350.52\n",
        "\n",
        "vtv_19 = qtv_19 * tkm_19\n",
        "print(vtv_19)"
      ],
      "metadata": {
        "colab": {
          "base_uri": "https://localhost:8080/"
        },
        "id": "Ol2gGSKP9Jiy",
        "outputId": "1f7cc422-fe51-4472-83e2-f5ed48251b58"
      },
      "execution_count": null,
      "outputs": [
        {
          "output_type": "stream",
          "name": "stdout",
          "text": [
            "1051.56\n"
          ]
        }
      ]
    },
    {
      "cell_type": "code",
      "source": [
        "vtv_20 = 834.47\n",
        "tkm_20 = 119.21\n",
        "\n",
        "qtv_20 = vtv_20 / tkm_20\n",
        "print(qtv_20)"
      ],
      "metadata": {
        "colab": {
          "base_uri": "https://localhost:8080/"
        },
        "id": "kM2iN7r09LhB",
        "outputId": "93f8ff91-2b3d-4d6b-c014-8020bdbc6fbd"
      },
      "execution_count": null,
      "outputs": [
        {
          "output_type": "stream",
          "name": "stdout",
          "text": [
            "7.000000000000001\n"
          ]
        }
      ]
    },
    {
      "cell_type": "code",
      "source": [
        "vtv_23 = 15378.12\n",
        "qtv_23 = 5\n",
        "\n",
        "tkm_23 = vtv_23 / qtv_23\n",
        "print(tkm_23)"
      ],
      "metadata": {
        "colab": {
          "base_uri": "https://localhost:8080/"
        },
        "id": "5FTlVf3q9SZe",
        "outputId": "51e808e3-abe8-4c21-adce-0b06521d5430"
      },
      "execution_count": 1,
      "outputs": [
        {
          "output_type": "stream",
          "name": "stdout",
          "text": [
            "3075.6240000000003\n"
          ]
        }
      ]
    },
    {
      "cell_type": "code",
      "source": [
        "cancao = 'Roda mundo, roda gigante, roda moinho, roda pião.'\n",
        "\n",
        "print(cancao)\n",
        "print(cancao.upper())"
      ],
      "metadata": {
        "colab": {
          "base_uri": "https://localhost:8080/"
        },
        "id": "ILkhpDVu9Vn7",
        "outputId": "5569262b-bb41-4ea3-d704-f79656137e28"
      },
      "execution_count": null,
      "outputs": [
        {
          "output_type": "stream",
          "name": "stdout",
          "text": [
            "Roda mundo, roda gigante, roda moinho, roda pião.\n",
            "RODA MUNDO, RODA GIGANTE, RODA MOINHO, RODA PIÃO.\n"
          ]
        }
      ]
    },
    {
      "cell_type": "code",
      "source": [
        "cancao = 'Roda mundo, roda gigante, roda moinho, roda pião.'\n",
        "\n",
        "print(cancao)\n",
        "print(cancao.lower())"
      ],
      "metadata": {
        "colab": {
          "base_uri": "https://localhost:8080/"
        },
        "id": "lFfU0vuF9Xv-",
        "outputId": "3e68ad77-6405-45be-cb82-cffdf12a0fc4"
      },
      "execution_count": null,
      "outputs": [
        {
          "output_type": "stream",
          "name": "stdout",
          "text": [
            "Roda mundo, roda gigante, roda moinho, roda pião.\n",
            "roda mundo, roda gigante, roda moinho, roda pião.\n"
          ]
        }
      ]
    },
    {
      "cell_type": "code",
      "source": [
        "noticia = ''' Selic vai a 2,75% e supera expectativas;\n",
        "é a primeira alta em 6 anos.'''\n",
        "\n",
        "selic = noticia[12:18]\n",
        "ano = noticia[62:69]\n",
        "\n",
        "print(selic)\n",
        "print(ano)\n",
        "\n"
      ],
      "metadata": {
        "colab": {
          "base_uri": "https://localhost:8080/"
        },
        "id": "SLVLYFm69ZsN",
        "outputId": "1ea3d2b3-9320-4ae4-d238-1558859887b6"
      },
      "execution_count": 29,
      "outputs": [
        {
          "output_type": "stream",
          "name": "stdout",
          "text": [
            " 2,75%\n",
            " 6 anos\n"
          ]
        }
      ]
    },
    {
      "cell_type": "code",
      "source": [
        "a = False\n",
        "b = True\n",
        "x = not a & b\n",
        "\n",
        "print(False & True)"
      ],
      "metadata": {
        "colab": {
          "base_uri": "https://localhost:8080/"
        },
        "id": "p44R7xHQ9buu",
        "outputId": "038c2b46-76f3-450e-f2ae-9d1eea1b4463"
      },
      "execution_count": null,
      "outputs": [
        {
          "output_type": "stream",
          "name": "stdout",
          "text": [
            "False\n"
          ]
        }
      ]
    }
  ]
}